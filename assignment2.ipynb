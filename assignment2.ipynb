{
 "cells": [
  {
   "cell_type": "markdown",
   "id": "bb4aeca6-c67a-4de0-9ba4-af792e7cf1d5",
   "metadata": {},
   "source": [
    "Q11. Create a variable named \"is_student\" and assign it a boolean value indicating whether you are\n",
    "currently a student or not."
   ]
  },
  {
   "cell_type": "code",
   "execution_count": 1,
   "id": "14d39b68-5a2d-4431-b5da-f63acd90de94",
   "metadata": {},
   "outputs": [],
   "source": [
    "# boolian variable\n",
    "is_student= True"
   ]
  },
  {
   "cell_type": "code",
   "execution_count": 2,
   "id": "e48eafd5-f6cb-4bc8-b373-db35148f6046",
   "metadata": {},
   "outputs": [
    {
     "data": {
      "text/plain": [
       "True"
      ]
     },
     "execution_count": 2,
     "metadata": {},
     "output_type": "execute_result"
    }
   ],
   "source": [
    "is_student"
   ]
  },
  {
   "cell_type": "markdown",
   "id": "61db552c-9993-409f-82ff-96b81cc77f27",
   "metadata": {},
   "source": [
    "Q10. Given the string \"Hello, World!\", extract the substring \"World\"."
   ]
  },
  {
   "cell_type": "code",
   "execution_count": 3,
   "id": "e23c745e-a0dc-4431-84fa-ab1a1960e4d4",
   "metadata": {},
   "outputs": [],
   "source": [
    "a = \"Hello,World\""
   ]
  },
  {
   "cell_type": "code",
   "execution_count": 4,
   "id": "d3016d93-e1d9-4c40-8927-b278da9a1ff7",
   "metadata": {},
   "outputs": [
    {
     "data": {
      "text/plain": [
       "'Hello,World'"
      ]
     },
     "execution_count": 4,
     "metadata": {},
     "output_type": "execute_result"
    }
   ],
   "source": [
    "a"
   ]
  },
  {
   "cell_type": "code",
   "execution_count": 5,
   "id": "9fe7ded7-98cb-43ec-852d-0d4f3b2130c6",
   "metadata": {},
   "outputs": [
    {
     "data": {
      "text/plain": [
       "11"
      ]
     },
     "execution_count": 5,
     "metadata": {},
     "output_type": "execute_result"
    }
   ],
   "source": [
    "len(a)"
   ]
  },
  {
   "cell_type": "code",
   "execution_count": 7,
   "id": "5d6fe492-a882-4ae4-948e-6739f5551dda",
   "metadata": {},
   "outputs": [
    {
     "data": {
      "text/plain": [
       "'World'"
      ]
     },
     "execution_count": 7,
     "metadata": {},
     "output_type": "execute_result"
    }
   ],
   "source": [
    "a[6:12]"
   ]
  },
  {
   "cell_type": "markdown",
   "id": "c7da70b8-477b-4d8e-a771-434b8cae9a93",
   "metadata": {},
   "source": [
    "Q9. Create a variable named name and assign your full name to it as a string. How would you print the\n",
    "value of this variable?"
   ]
  },
  {
   "cell_type": "code",
   "execution_count": 8,
   "id": "6266c51d-bb30-45e1-b3d1-01df4e7cd879",
   "metadata": {},
   "outputs": [],
   "source": [
    "name = \"Akash Shukla\""
   ]
  },
  {
   "cell_type": "code",
   "execution_count": 9,
   "id": "57552fa9-27b5-4516-8d2c-a82fed899e4f",
   "metadata": {},
   "outputs": [
    {
     "data": {
      "text/plain": [
       "'Akash Shukla'"
      ]
     },
     "execution_count": 9,
     "metadata": {},
     "output_type": "execute_result"
    }
   ],
   "source": [
    "name "
   ]
  },
  {
   "cell_type": "markdown",
   "id": "bc37b2dc-5995-493e-8f9a-4df5243a2cea",
   "metadata": {},
   "source": [
    "Q8. Declare a variable named price and assign the value 9.99 to it. What data type does this variable\n",
    "belong to?"
   ]
  },
  {
   "cell_type": "code",
   "execution_count": 10,
   "id": "9a01e1df-3c5a-4462-ac17-adbe6069af7d",
   "metadata": {},
   "outputs": [],
   "source": [
    "price= 9.99"
   ]
  },
  {
   "cell_type": "code",
   "execution_count": 11,
   "id": "ecabba89-ad84-4cd8-b4ad-2a44bfb4a1c0",
   "metadata": {},
   "outputs": [
    {
     "data": {
      "text/plain": [
       "float"
      ]
     },
     "execution_count": 11,
     "metadata": {},
     "output_type": "execute_result"
    }
   ],
   "source": [
    "type(price)"
   ]
  },
  {
   "cell_type": "markdown",
   "id": "d7c80595-c03e-42ec-abd2-efe4a037880b",
   "metadata": {},
   "source": [
    "Q7. What is the correct way to declare a variable named age and assign the value 25 to it?"
   ]
  },
  {
   "cell_type": "code",
   "execution_count": 12,
   "id": "f8e85c1b-bce6-49e2-9771-cdd91f3f6963",
   "metadata": {},
   "outputs": [],
   "source": [
    "age = 25\n"
   ]
  },
  {
   "cell_type": "markdown",
   "id": "1ce37729-4868-4290-acc3-2b9cca98669e",
   "metadata": {},
   "source": [
    "Q6. What is a complex number in mathematics, and how is it represented in Python?"
   ]
  },
  {
   "cell_type": "code",
   "execution_count": 13,
   "id": "ab0fd1af-a552-481f-9219-80d085ba2a8f",
   "metadata": {},
   "outputs": [
    {
     "data": {
      "text/plain": [
       "(8+5j)"
      ]
     },
     "execution_count": 13,
     "metadata": {},
     "output_type": "execute_result"
    }
   ],
   "source": [
    "# complex number\n",
    "8+5j\n",
    "# where 8 is real number and 5is imaginary number\n"
   ]
  },
  {
   "cell_type": "markdown",
   "id": "81c579eb-0653-4ad3-a410-1f764f34a79f",
   "metadata": {},
   "source": [
    "Q5. Given a list my_list = [1, 2, 3, 4, 5], write the code to slice the list and obtain the sub-list [2, 3]."
   ]
  },
  {
   "cell_type": "code",
   "execution_count": 14,
   "id": "f0292445-6c9e-48b7-b5db-b3a73ef69997",
   "metadata": {},
   "outputs": [],
   "source": [
    "my_list = [1,2,3,4,5]"
   ]
  },
  {
   "cell_type": "code",
   "execution_count": 16,
   "id": "b564a903-cda8-4994-aba5-f46ef414058e",
   "metadata": {},
   "outputs": [
    {
     "data": {
      "text/plain": [
       "[2, 3]"
      ]
     },
     "execution_count": 16,
     "metadata": {},
     "output_type": "execute_result"
    }
   ],
   "source": [
    "my_list [1:3]"
   ]
  },
  {
   "cell_type": "markdown",
   "id": "32cfc66b-25b4-42c6-80e8-a0d4aa310d59",
   "metadata": {},
   "source": [
    "Q4. How do you write and execute a Python script from the command line?"
   ]
  },
  {
   "cell_type": "code",
   "execution_count": 17,
   "id": "d1df08c4-73e2-456d-aee0-9b42c3ae4043",
   "metadata": {},
   "outputs": [
    {
     "data": {
      "text/plain": [
       "'this is python screipt'"
      ]
     },
     "execution_count": 17,
     "metadata": {},
     "output_type": "execute_result"
    }
   ],
   "source": [
    "\"this is python screipt\""
   ]
  },
  {
   "cell_type": "markdown",
   "id": "f5d68aa4-2de8-4b85-bd49-39468f2eb8c4",
   "metadata": {},
   "source": [
    "Q3. How do you convert one data type to another in Python?"
   ]
  },
  {
   "cell_type": "code",
   "execution_count": 20,
   "id": "d8604665-7a2c-4e67-8377-edc772bb01ce",
   "metadata": {},
   "outputs": [],
   "source": [
    "b= 123"
   ]
  },
  {
   "cell_type": "code",
   "execution_count": 21,
   "id": "4224dde5-b68c-479b-8fd9-bada61010fbd",
   "metadata": {},
   "outputs": [
    {
     "data": {
      "text/plain": [
       "123"
      ]
     },
     "execution_count": 21,
     "metadata": {},
     "output_type": "execute_result"
    }
   ],
   "source": [
    "b"
   ]
  },
  {
   "cell_type": "code",
   "execution_count": 22,
   "id": "1ab57cbd-db8d-4db8-a74c-34e1326964d5",
   "metadata": {},
   "outputs": [
    {
     "data": {
      "text/plain": [
       "'123'"
      ]
     },
     "execution_count": 22,
     "metadata": {},
     "output_type": "execute_result"
    }
   ],
   "source": [
    "str (b)"
   ]
  },
  {
   "cell_type": "markdown",
   "id": "eed15da5-e9ba-42e8-b80e-9b7d8568c73d",
   "metadata": {},
   "source": [
    "Q2. What are variables in Python? How do you declare and assign values to variables?"
   ]
  },
  {
   "cell_type": "code",
   "execution_count": null,
   "id": "f65ab92c-cfd9-49dc-a358-acaa90c64d6e",
   "metadata": {},
   "outputs": [],
   "source": [
    "\"\"\"In python variable are like container where stores value\"\"\"\n",
    "a = 25\n",
    "\"'a' is variable and '25' value of the variable\""
   ]
  },
  {
   "cell_type": "markdown",
   "id": "f53bac87-6521-4049-83b3-eab1681597dd",
   "metadata": {},
   "source": [
    "Q1. How do you comment code in Python? What are the different types of comments?"
   ]
  },
  {
   "cell_type": "markdown",
   "id": "2ee35c76-8add-4809-ae7a-e8e0978c2d94",
   "metadata": {},
   "source": [
    "in pyhon we can use comments single line comment,dubble and multi line comments,"
   ]
  }
 ],
 "metadata": {
  "kernelspec": {
   "display_name": "Python 3 (ipykernel)",
   "language": "python",
   "name": "python3"
  },
  "language_info": {
   "codemirror_mode": {
    "name": "ipython",
    "version": 3
   },
   "file_extension": ".py",
   "mimetype": "text/x-python",
   "name": "python",
   "nbconvert_exporter": "python",
   "pygments_lexer": "ipython3",
   "version": "3.10.8"
  }
 },
 "nbformat": 4,
 "nbformat_minor": 5
}
